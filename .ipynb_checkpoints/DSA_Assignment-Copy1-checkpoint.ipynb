{
 "cells": [
  {
   "cell_type": "code",
   "execution_count": 5,
   "id": "c5b2778a",
   "metadata": {},
   "outputs": [
    {
     "name": "stdout",
     "output_type": "stream",
     "text": [
      "[(2, 4), (1, 5)]\n"
     ]
    }
   ],
   "source": [
    "# 1.Write a program to find all pairs of an integer array whose sum is equal to a given number?\n",
    "def find_pairs(arr, target_sum):\n",
    "    seen = set()\n",
    "    output=[]\n",
    "    for num in arr:\n",
    "        diff=target_sum-num\n",
    "        if diff in seen:\n",
    "            output.append((diff,num))\n",
    "        seen.add(num)\n",
    "    return output\n",
    "arr=[1,2,3,4,5]\n",
    "target_sum = 6\n",
    "pairs=find_pairs(arr,target_sum)\n",
    "print(pairs)"
   ]
  },
  {
   "cell_type": "code",
   "execution_count": 6,
   "id": "5d0a571d",
   "metadata": {},
   "outputs": [
    {
     "name": "stdout",
     "output_type": "stream",
     "text": [
      "[5, 4, 3, 2, 1]\n"
     ]
    }
   ],
   "source": [
    "# 2.Write a program to reverse an array in place? In place means you cannot create a new array. You have to update the original array.\n",
    "def reverse_array(arr):\n",
    "    n=len(arr)\n",
    "    for i in range(n//2):\n",
    "        arr[i],arr[n-i-1] = arr[n-i-1],arr[i]\n",
    "arr=[1,2,3,4,5]\n",
    "reverse_array(arr)\n",
    "print(arr)"
   ]
  },
  {
   "cell_type": "code",
   "execution_count": 10,
   "id": "392ac0c3",
   "metadata": {},
   "outputs": [
    {
     "name": "stdout",
     "output_type": "stream",
     "text": [
      "The Strings are a rotation of each other\n"
     ]
    }
   ],
   "source": [
    "# 3.Write a program to check if two strings are a rotation of each other?\n",
    "def rotation(str1, str2):\n",
    "    if len(str1)!=len(str2):\n",
    "        return false\n",
    "    new_str=str1+str1\n",
    "    if str2 in new_str:\n",
    "        return True\n",
    "    else:\n",
    "        return False\n",
    "str1=\"abcd\"\n",
    "str2=\"cdab\"\n",
    "if rotation(str1,str2):\n",
    "    print(\"The Strings are a rotation of each other\")\n",
    "else:\n",
    "    print(\"The Strings are not a rotation of each other\")\n",
    "    "
   ]
  },
  {
   "cell_type": "code",
   "execution_count": 11,
   "id": "a7cc6eec",
   "metadata": {},
   "outputs": [
    {
     "name": "stdout",
     "output_type": "stream",
     "text": [
      "The first non-repeated character in the string is: h\n"
     ]
    }
   ],
   "source": [
    "# 4.Write a program to print the first non-repeated character from a string?\n",
    "def first_non_repeated_char(string):\n",
    "    char_freq = {}\n",
    "\n",
    "    for char in string:\n",
    "        if char in char_freq:\n",
    "            char_freq[char] += 1\n",
    "        else:\n",
    "            char_freq[char] = 1\n",
    "    for char in string:\n",
    "        if char_freq[char] == 1:\n",
    "            return char\n",
    "    return None\n",
    "string = \"hello world\"\n",
    "result = first_non_repeated_char(string)\n",
    "if result:\n",
    "    print(\"The first non-repeated character in the string is:\", result)\n",
    "else:\n",
    "    print(\"There are no non-repeated characters in the string.\")\n"
   ]
  },
  {
   "cell_type": "code",
   "execution_count": 12,
   "id": "392ca770",
   "metadata": {},
   "outputs": [
    {
     "name": "stdout",
     "output_type": "stream",
     "text": [
      "Move disk 1 from A to C\n",
      "Move disk 2 from A to B\n",
      "Move disk 1 from C to B\n",
      "Move disk 3 from A to C\n",
      "Move disk 1 from B to A\n",
      "Move disk 2 from B to C\n",
      "Move disk 1 from A to C\n"
     ]
    }
   ],
   "source": [
    "# 5.Read about the Tower of Hanoi algorithm. Write a program to implement it.\n",
    "def tower_of_hanoi(n, source, target, auxiliary):\n",
    "    if n == 1:\n",
    "        print(\"Move disk 1 from\", source, \"to\", target)\n",
    "        return\n",
    "\n",
    "    tower_of_hanoi(n-1, source, auxiliary, target)\n",
    "    print(\"Move disk\", n, \"from\", source, \"to\", target)\n",
    "    tower_of_hanoi(n-1, auxiliary, target, source)\n",
    "tower_of_hanoi(3, \"A\", \"C\", \"B\")"
   ]
  },
  {
   "cell_type": "code",
   "execution_count": 13,
   "id": "19286533",
   "metadata": {},
   "outputs": [
    {
     "name": "stdout",
     "output_type": "stream",
     "text": [
      "Postfix expression: 5 3 8 * +\n",
      "Prefix expression: +5*38\n"
     ]
    }
   ],
   "source": [
    "# 6.Read about infix, prefix, and postfix expressions. Write a program to convert postfix to prefix expression.\n",
    "def postfix_to_prefix(postfix_expression):\n",
    "    stack = []\n",
    "    for token in postfix_expression.split():\n",
    "        if token.isdigit():\n",
    "            stack.append(token)\n",
    "        else:\n",
    "            operand2 = stack.pop()\n",
    "            operand1 = stack.pop()\n",
    "            expression = token + operand1 + operand2\n",
    "            stack.append(expression)\n",
    "    return stack[-1]\n",
    "postfix_expression = \"5 3 8 * +\"\n",
    "prefix_expression = postfix_to_prefix(postfix_expression)\n",
    "print(\"Postfix expression:\", postfix_expression)\n",
    "print(\"Prefix expression:\", prefix_expression)"
   ]
  },
  {
   "cell_type": "code",
   "execution_count": 14,
   "id": "812634da",
   "metadata": {},
   "outputs": [
    {
     "name": "stdout",
     "output_type": "stream",
     "text": [
      "Prefix expression: + * 5 3 8\n",
      "Infix expression: ((5 * 3) + 8)\n"
     ]
    }
   ],
   "source": [
    "# 7.Write a program to convert prefix expression to infix expression.\n",
    "def prefix_to_infix(prefix_expression):\n",
    "    stack = []\n",
    "    for token in reversed(prefix_expression.split()):\n",
    "        if token.isdigit():\n",
    "            stack.append(token)\n",
    "        else:\n",
    "            operand1 = stack.pop()\n",
    "            operand2 = stack.pop()\n",
    "            expression = f\"({operand1} {token} {operand2})\"\n",
    "            stack.append(expression)\n",
    "    return stack[-1]\n",
    "\n",
    "prefix_expression = \"+ * 5 3 8\"\n",
    "infix_expression = prefix_to_infix(prefix_expression)\n",
    "print(\"Prefix expression:\", prefix_expression)\n",
    "print(\"Infix expression:\", infix_expression)"
   ]
  },
  {
   "cell_type": "code",
   "execution_count": 15,
   "id": "267ef7ec",
   "metadata": {},
   "outputs": [
    {
     "name": "stdout",
     "output_type": "stream",
     "text": [
      "All the brackets are closed.\n"
     ]
    }
   ],
   "source": [
    "# 8.Write a program to check if all the brackets are closed in a given code snippet.\n",
    "def is_bracket_balanced(code):\n",
    "    stack = []\n",
    "    for char in code:\n",
    "        if char in [\"(\", \"[\", \"{\"]:\n",
    "            stack.append(char)\n",
    "        elif char in [\")\", \"]\", \"}\"]:\n",
    "            if not stack:\n",
    "                return False\n",
    "            elif char == \")\" and stack[-1] == \"(\":\n",
    "                stack.pop()\n",
    "            elif char == \"]\" and stack[-1] == \"[\":\n",
    "                stack.pop()\n",
    "            elif char == \"}\" and stack[-1] == \"{\":\n",
    "                stack.pop()\n",
    "            else:\n",
    "                return False\n",
    "    return not stack\n",
    "code = \"(a + b) * (c - d)\"\n",
    "if is_bracket_balanced(code):\n",
    "    print(\"All the brackets are closed.\")\n",
    "else:\n",
    "    print(\"There is an unclosed bracket.\")"
   ]
  },
  {
   "cell_type": "code",
   "execution_count": 20,
   "id": "dcdf750a",
   "metadata": {},
   "outputs": [
    {
     "name": "stdout",
     "output_type": "stream",
     "text": [
      "Original Stack\n",
      "5\n",
      "4\n",
      "3\n",
      "2\n",
      "1\n",
      "\n",
      "Stack after Reversing\n",
      "1\n",
      "2\n",
      "3\n",
      "4\n",
      "5\n"
     ]
    }
   ],
   "source": [
    "# 9.Write a program to reverse a stack.\n",
    "class Stack:\n",
    "    def __init__(self):\n",
    "        self.Elements = []\n",
    "    def push(self, value):\n",
    "        self.Elements.append(value)\n",
    "    def pop(self):\n",
    "        return self.Elements.pop()\n",
    "    def empty(self):\n",
    "        return self.Elements == []\n",
    "\n",
    "    def show(self):\n",
    "        for value in reversed(self.Elements):\n",
    "            print(value)\n",
    "\n",
    "def BottomInsert(s, value):\n",
    "\n",
    "    if s.empty():\n",
    "        s.push(value)\n",
    "    else:\n",
    "        popped = s.pop()\n",
    "        BottomInsert(s, value)\n",
    "        s.push(popped)\n",
    "def Reverse(s):\n",
    "    if s.empty():\n",
    "        pass\n",
    "    else:\n",
    "        popped = s.pop()\n",
    "        Reverse(s)\n",
    "        BottomInsert(s, popped)\n",
    "stk = Stack()\n",
    "\n",
    "stk.push(1)\n",
    "stk.push(2)\n",
    "stk.push(3)\n",
    "stk.push(4)\n",
    "stk.push(5)\n",
    "\n",
    "print(\"Original Stack\")\n",
    "stk.show()\n",
    "\n",
    "print(\"\\nStack after Reversing\")\n",
    "Reverse(stk)\n",
    "stk.show()"
   ]
  },
  {
   "cell_type": "code",
   "execution_count": 21,
   "id": "9635d539",
   "metadata": {},
   "outputs": [
    {
     "name": "stdout",
     "output_type": "stream",
     "text": [
      "Current minimum value: 1\n",
      "Current minimum value: 2\n",
      "Current minimum value: 3\n"
     ]
    }
   ],
   "source": [
    "# 10.Write a program to find the smallest number using a stack.\n",
    "class MinStack:\n",
    "    def __init__(self):\n",
    "        self.stack = []\n",
    "        self.min_stack = []\n",
    "        \n",
    "    def push(self, value):\n",
    "        self.stack.append(value)\n",
    "        if not self.min_stack or value <= self.min_stack[-1]:\n",
    "            self.min_stack.append(value)\n",
    "        \n",
    "    def pop(self):\n",
    "        if self.stack[-1] == self.min_stack[-1]:\n",
    "            self.min_stack.pop()\n",
    "        return self.stack.pop()\n",
    "        \n",
    "    def get_min(self):\n",
    "        return self.min_stack[-1]\n",
    "stack = MinStack()\n",
    "stack.push(3)\n",
    "stack.push(5)\n",
    "stack.push(2)\n",
    "stack.push(1)\n",
    "print(\"Current minimum value:\", stack.get_min())\n",
    "stack.pop()\n",
    "print(\"Current minimum value:\", stack.get_min())\n",
    "stack.pop()\n",
    "print(\"Current minimum value:\", stack.get_min())"
   ]
  },
  {
   "cell_type": "code",
   "execution_count": null,
   "id": "6ad9c553",
   "metadata": {},
   "outputs": [],
   "source": []
  }
 ],
 "metadata": {
  "kernelspec": {
   "display_name": "Python 3 (ipykernel)",
   "language": "python",
   "name": "python3"
  },
  "language_info": {
   "codemirror_mode": {
    "name": "ipython",
    "version": 3
   },
   "file_extension": ".py",
   "mimetype": "text/x-python",
   "name": "python",
   "nbconvert_exporter": "python",
   "pygments_lexer": "ipython3",
   "version": "3.11.3"
  }
 },
 "nbformat": 4,
 "nbformat_minor": 5
}
